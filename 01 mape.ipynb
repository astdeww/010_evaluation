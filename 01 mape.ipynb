{
 "cells": [
  {
   "cell_type": "code",
   "execution_count": 1,
   "metadata": {},
   "outputs": [],
   "source": [
    "import pandas as pd"
   ]
  },
  {
   "cell_type": "markdown",
   "metadata": {},
   "source": [
    "# Pandas"
   ]
  },
  {
   "cell_type": "code",
   "execution_count": 7,
   "metadata": {},
   "outputs": [],
   "source": [
    "import pandas as pd\n",
    "\n",
    "def calculate_mape_by_category(df, actual_col, prediction_col, category_col):\n",
    "    \"\"\"\n",
    "    Calculate MAPE for each category in the DataFrame, handling zero actual values.\n",
    "\n",
    "    Parameters:\n",
    "    df (pd.DataFrame): The DataFrame containing the data.\n",
    "    actual_col (str): The column name for actual values.\n",
    "    prediction_col (str): The column name for predicted values.\n",
    "    category_col (str): The column name for categories.\n",
    "\n",
    "    Returns:\n",
    "    pd.DataFrame: A DataFrame with categories and their corresponding MAPE values.\n",
    "    \"\"\"\n",
    "    \n",
    "    # Function to calculate MAPE for a single category, excluding zero actual values\n",
    "    def mape(actual, predicted):\n",
    "        mask = actual != 0\n",
    "        return (abs((actual[mask] - predicted[mask]) / actual[mask])).mean() * 100\n",
    "    \n",
    "    # Group by category and calculate MAPE for each group\n",
    "    mape_results = df.groupby(category_col).apply(\n",
    "        lambda group: mape(group[actual_col], group[prediction_col])\n",
    "    ).reset_index(name='MAPE')\n",
    "    \n",
    "    return mape_results\n",
    "\n",
    "# Example usage:\n",
    "# Assuming df is your DataFrame with columns 'A', 'B', 'C', and 'D'\n",
    "# df = pd.DataFrame({\n",
    "#     'A': [1, 2, 3, 4, 5, 6],\n",
    "#     'B': ['cat1', 'cat2', 'cat1', 'cat2', 'cat1', 'cat2'],\n",
    "#     'C': [100, 0, 150, 230, 0, 220],\n",
    "#     'D': [110, 210, 140, 250, 170, 210]\n",
    "# })\n",
    "\n",
    "# Calculate MAPE by category\n",
    "# mape_by_category = calculate_mape_by_category(df, actual_col='C', prediction_col='D', category_col='B')\n",
    "# print\n"
   ]
  },
  {
   "cell_type": "code",
   "execution_count": 8,
   "metadata": {},
   "outputs": [],
   "source": [
    "# Create a sample DataFrame\n",
    "data = {\n",
    "    'A': [1, 2, 3, 4, 5, 6],\n",
    "    'B': ['cat1', 'cat2', 'cat1', 'cat2', 'cat1', 'cat2'],\n",
    "    'C': [100, 0, 150, 230, 0, 220],\n",
    "    'D': [110, 210, 140, 250, 170, 210]\n",
    "}\n",
    "df = pd.DataFrame(data)"
   ]
  },
  {
   "cell_type": "code",
   "execution_count": 10,
   "metadata": {},
   "outputs": [
    {
     "name": "stdout",
     "output_type": "stream",
     "text": [
      "<class 'pandas.core.frame.DataFrame'>\n"
     ]
    },
    {
     "data": {
      "text/html": [
       "<div>\n",
       "<style scoped>\n",
       "    .dataframe tbody tr th:only-of-type {\n",
       "        vertical-align: middle;\n",
       "    }\n",
       "\n",
       "    .dataframe tbody tr th {\n",
       "        vertical-align: top;\n",
       "    }\n",
       "\n",
       "    .dataframe thead th {\n",
       "        text-align: right;\n",
       "    }\n",
       "</style>\n",
       "<table border=\"1\" class=\"dataframe\">\n",
       "  <thead>\n",
       "    <tr style=\"text-align: right;\">\n",
       "      <th></th>\n",
       "      <th>A</th>\n",
       "      <th>B</th>\n",
       "      <th>C</th>\n",
       "      <th>D</th>\n",
       "    </tr>\n",
       "  </thead>\n",
       "  <tbody>\n",
       "    <tr>\n",
       "      <th>0</th>\n",
       "      <td>1</td>\n",
       "      <td>cat1</td>\n",
       "      <td>100</td>\n",
       "      <td>110</td>\n",
       "    </tr>\n",
       "    <tr>\n",
       "      <th>1</th>\n",
       "      <td>2</td>\n",
       "      <td>cat2</td>\n",
       "      <td>0</td>\n",
       "      <td>210</td>\n",
       "    </tr>\n",
       "    <tr>\n",
       "      <th>2</th>\n",
       "      <td>3</td>\n",
       "      <td>cat1</td>\n",
       "      <td>150</td>\n",
       "      <td>140</td>\n",
       "    </tr>\n",
       "    <tr>\n",
       "      <th>3</th>\n",
       "      <td>4</td>\n",
       "      <td>cat2</td>\n",
       "      <td>230</td>\n",
       "      <td>250</td>\n",
       "    </tr>\n",
       "    <tr>\n",
       "      <th>4</th>\n",
       "      <td>5</td>\n",
       "      <td>cat1</td>\n",
       "      <td>0</td>\n",
       "      <td>170</td>\n",
       "    </tr>\n",
       "    <tr>\n",
       "      <th>5</th>\n",
       "      <td>6</td>\n",
       "      <td>cat2</td>\n",
       "      <td>220</td>\n",
       "      <td>210</td>\n",
       "    </tr>\n",
       "  </tbody>\n",
       "</table>\n",
       "</div>"
      ],
      "text/plain": [
       "   A     B    C    D\n",
       "0  1  cat1  100  110\n",
       "1  2  cat2    0  210\n",
       "2  3  cat1  150  140\n",
       "3  4  cat2  230  250\n",
       "4  5  cat1    0  170\n",
       "5  6  cat2  220  210"
      ]
     },
     "execution_count": 10,
     "metadata": {},
     "output_type": "execute_result"
    }
   ],
   "source": [
    "print(type(df))\n",
    "df"
   ]
  },
  {
   "cell_type": "code",
   "execution_count": 11,
   "metadata": {},
   "outputs": [
    {
     "name": "stdout",
     "output_type": "stream",
     "text": [
      "      B      MAPE\n",
      "0  cat1  8.333333\n",
      "1  cat2  6.620553\n",
      "<class 'pandas.core.frame.DataFrame'>\n"
     ]
    }
   ],
   "source": [
    "# Calculate MAPE by category\n",
    "mape_by_category = calculate_mape_by_category(df, actual_col='C', prediction_col='D', category_col='B')\n",
    "print(mape_by_category)\n",
    "print(type(mape_by_category))"
   ]
  },
  {
   "cell_type": "markdown",
   "metadata": {},
   "source": [
    "# PySpark"
   ]
  },
  {
   "cell_type": "code",
   "execution_count": null,
   "metadata": {},
   "outputs": [],
   "source": [
    "from pyspark.sql import SparkSession\n",
    "from pyspark.sql.functions import col, when, abs as spark_abs, mean"
   ]
  },
  {
   "cell_type": "code",
   "execution_count": null,
   "metadata": {},
   "outputs": [],
   "source": [
    "# Initialize Spark session\n",
    "spark = SparkSession.builder.appName(\"MAPE Calculation\").getOrCreate()"
   ]
  },
  {
   "cell_type": "code",
   "execution_count": null,
   "metadata": {},
   "outputs": [],
   "source": [
    "def calculate_mape_by_category(df, actual_col, prediction_col, category_col):\n",
    "    \"\"\"\n",
    "    Calculate MAPE for each category in the PySpark DataFrame, handling zero actual values.\n",
    "\n",
    "    Parameters:\n",
    "    df (pyspark.sql.DataFrame): The DataFrame containing the data.\n",
    "    actual_col (str): The column name for actual values.\n",
    "    prediction_col (str): The column name for predicted values.\n",
    "    category_col (str): The column name for categories.\n",
    "\n",
    "    Returns:\n",
    "    pyspark.sql.DataFrame: A DataFrame with categories and their corresponding MAPE values.\n",
    "    \"\"\"\n",
    "    \n",
    "    # Create a column for absolute percentage error, handling zero actual values\n",
    "    df = df.withColumn(\n",
    "        'absolute_percentage_error',\n",
    "        when(col(actual_col) != 0, spark_abs((col(actual_col) - col(prediction_col)) / col(actual_col)) * 100).otherwise(None)\n",
    "    )\n",
    "    \n",
    "    # Calculate the mean absolute percentage error for each category\n",
    "    mape_results = df.groupBy(category_col).agg(mean(col('absolute_percentage_error')).alias('MAPE'))\n",
    "    \n",
    "    return mape_results\n",
    "\n",
    "# Example usage:\n",
    "# Assuming df is your PySpark DataFrame with columns 'A', 'B', 'C', and 'D'\n",
    "# data = [\n",
    "#     (1, 'cat1', 100, 110),\n",
    "#     (2, 'cat2', 0, 210),\n",
    "#     (3, 'cat1', 150, 140),\n",
    "#     (4, 'cat2', 230, 250),\n",
    "#     (5, 'cat1', 0, 170),\n",
    "#     (6, 'cat2', 220, 210)\n",
    "# ]\n",
    "# columns = ['A', 'B', 'C', 'D']\n",
    "# df = spark.createDataFrame(data, columns)\n",
    "\n",
    "# Calculate MAPE by category\n",
    "# mape_by_category = calculate_mape_by_category(df, actual_col='C', prediction_col='D', category_col='B')\n",
    "# mape_by_category.show()\n"
   ]
  },
  {
   "cell_type": "code",
   "execution_count": null,
   "metadata": {},
   "outputs": [],
   "source": [
    "data2 = [\n",
    "    (1, 'cat1', 100, 110),\n",
    "    (2, 'cat2', 0, 210),\n",
    "    (3, 'cat1', 150, 140),\n",
    "    (4, 'cat2', 230, 250),\n",
    "    (5, 'cat1', 0, 170),\n",
    "    (6, 'cat2', 220, 210)\n",
    "]\n",
    "columns2 = ['A', 'B', 'C', 'D']\n",
    "df2 = spark.createDataFrame(data2, columns2)\n"
   ]
  },
  {
   "cell_type": "code",
   "execution_count": null,
   "metadata": {},
   "outputs": [],
   "source": [
    "# Calculate MAPE by category\n",
    "mape_by_category = calculate_mape_by_category(df, actual_col='C', prediction_col='D', category_col='B')\n",
    "mape_by_category.show()"
   ]
  }
 ],
 "metadata": {
  "kernelspec": {
   "display_name": "env_prophet",
   "language": "python",
   "name": "env_prophet"
  },
  "language_info": {
   "codemirror_mode": {
    "name": "ipython",
    "version": 3
   },
   "file_extension": ".py",
   "mimetype": "text/x-python",
   "name": "python",
   "nbconvert_exporter": "python",
   "pygments_lexer": "ipython3",
   "version": "3.11.7"
  }
 },
 "nbformat": 4,
 "nbformat_minor": 2
}
